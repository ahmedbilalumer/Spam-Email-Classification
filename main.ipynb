{
 "cells": [
  {
   "cell_type": "markdown",
   "metadata": {},
   "source": [
    "# Step 1: Data Preperation #"
   ]
  },
  {
   "cell_type": "code",
   "execution_count": 2,
   "metadata": {},
   "outputs": [
    {
     "name": "stdout",
     "output_type": "stream",
     "text": [
      "<class 'pandas.core.frame.DataFrame'>\n",
      "RangeIndex: 5172 entries, 0 to 5171\n",
      "Columns: 3002 entries, Email No. to Prediction\n",
      "dtypes: int64(3001), object(1)\n",
      "memory usage: 118.5+ MB\n"
     ]
    },
    {
     "data": {
      "text/plain": [
       "(0,\n",
       " 0    3672\n",
       " 1    1500\n",
       " Name: Prediction, dtype: int64)"
      ]
     },
     "execution_count": 2,
     "metadata": {},
     "output_type": "execute_result"
    }
   ],
   "source": [
    "import pandas as pd\n",
    "\n",
    "# Load the dataset\n",
    "file_path = 'emails.csv'\n",
    "emails_df = pd.read_csv(file_path)\n",
    "\n",
    "# Display the first few rows of the dataset and basic info\n",
    "emails_df.head(), emails_df.info()\n",
    "\n",
    "# Check for missing values\n",
    "missing_values = emails_df.isnull().sum().sum()\n",
    "\n",
    "# Inspect the target variable 'Prediction'\n",
    "target_variable_info = emails_df['Prediction'].value_counts()\n",
    "\n",
    "missing_values, target_variable_info\n"
   ]
  },
  {
   "cell_type": "markdown",
   "metadata": {},
   "source": [
    "# Step 2: Model Selection #"
   ]
  },
  {
   "cell_type": "code",
   "execution_count": 3,
   "metadata": {},
   "outputs": [
    {
     "data": {
      "text/plain": [
       "((4137, 3000), (1035, 3000), (4137,), (1035,))"
      ]
     },
     "execution_count": 3,
     "metadata": {},
     "output_type": "execute_result"
    }
   ],
   "source": [
    "from sklearn.model_selection import train_test_split\n",
    "from sklearn.preprocessing import StandardScaler\n",
    "\n",
    "# Split the dataset into features and target variable\n",
    "X = emails_df.drop(columns=['Email No.', 'Prediction'])\n",
    "y = emails_df['Prediction']\n",
    "\n",
    "# Split the dataset into training and testing sets\n",
    "X_train, X_test, y_train, y_test = train_test_split(X, y, test_size=0.2, random_state=42)\n",
    "\n",
    "# Scale the numerical features\n",
    "scaler = StandardScaler()\n",
    "X_train_scaled = scaler.fit_transform(X_train)\n",
    "X_test_scaled = scaler.transform(X_test)\n",
    "\n",
    "# Confirm the shapes of the training and testing sets\n",
    "X_train_scaled.shape, X_test_scaled.shape, y_train.shape, y_test.shape\n"
   ]
  },
  {
   "cell_type": "markdown",
   "metadata": {},
   "source": [
    "# Step 3: Model training and Evaluation #"
   ]
  },
  {
   "cell_type": "code",
   "execution_count": 5,
   "metadata": {},
   "outputs": [
    {
     "name": "stdout",
     "output_type": "stream",
     "text": [
      "Logistic Regression Results: Accuracy: 0.9652, Precision: 0.9037, Recall: 0.9831, F1-score: 0.9417\n",
      "Decision Tree Results: Accuracy: 0.9237, Precision: 0.8653, Recall: 0.8682, F1-score: 0.8668\n",
      "SVM Results: Accuracy: 0.9469, Precision: 0.9959, Recall: 0.8176, F1-score: 0.8980\n"
     ]
    }
   ],
   "source": [
    "from sklearn.linear_model import LogisticRegression\n",
    "from sklearn.tree import DecisionTreeClassifier\n",
    "from sklearn.svm import SVC\n",
    "from sklearn.metrics import accuracy_score, precision_score, recall_score, f1_score\n",
    "\n",
    "# Function to evaluate and print model performance\n",
    "def evaluate_model(model, X_test, y_test):\n",
    "    y_pred = model.predict(X_test)\n",
    "    accuracy = accuracy_score(y_test, y_pred)\n",
    "    precision = precision_score(y_test, y_pred)\n",
    "    recall = recall_score(y_test, y_pred)\n",
    "    f1 = f1_score(y_test, y_pred)\n",
    "    return accuracy, precision, recall, f1\n",
    "\n",
    "# Initialize models\n",
    "log_reg = LogisticRegression(random_state=42)\n",
    "decision_tree = DecisionTreeClassifier(random_state=42)\n",
    "svm = SVC(random_state=42)\n",
    "\n",
    "# Train models\n",
    "log_reg.fit(X_train_scaled, y_train)\n",
    "decision_tree.fit(X_train_scaled, y_train)\n",
    "svm.fit(X_train_scaled, y_train)\n",
    "\n",
    "# Evaluate models\n",
    "log_reg_results = evaluate_model(log_reg, X_test_scaled, y_test)\n",
    "decision_tree_results = evaluate_model(decision_tree, X_test_scaled, y_test)\n",
    "svm_results = evaluate_model(svm, X_test_scaled, y_test)\n",
    "\n",
    "log_reg_results, decision_tree_results, svm_results\n",
    "\n",
    "print(\"Logistic Regression Results: Accuracy: {:.4f}, Precision: {:.4f}, Recall: {:.4f}, F1-score: {:.4f}\".format(*log_reg_results))\n",
    "print(\"Decision Tree Results: Accuracy: {:.4f}, Precision: {:.4f}, Recall: {:.4f}, F1-score: {:.4f}\".format(*decision_tree_results))\n",
    "print(\"SVM Results: Accuracy: {:.4f}, Precision: {:.4f}, Recall: {:.4f}, F1-score: {:.4f}\".format(*svm_results))\n"
   ]
  }
 ],
 "metadata": {
  "kernelspec": {
   "display_name": "Python 3",
   "language": "python",
   "name": "python3"
  },
  "language_info": {
   "codemirror_mode": {
    "name": "ipython",
    "version": 3
   },
   "file_extension": ".py",
   "mimetype": "text/x-python",
   "name": "python",
   "nbconvert_exporter": "python",
   "pygments_lexer": "ipython3",
   "version": "3.11.0"
  }
 },
 "nbformat": 4,
 "nbformat_minor": 2
}
